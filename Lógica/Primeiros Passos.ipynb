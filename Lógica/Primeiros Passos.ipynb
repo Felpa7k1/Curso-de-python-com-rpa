{
 "cells": [
  {
   "cell_type": "code",
   "execution_count": null,
   "metadata": {},
   "outputs": [],
   "source": [
    "#Comentários - não são executados e são usados para marcar o código\n",
    "\n",
    "\"\"\"\n",
    "3 aspas são usadas\n",
    "para fazer comentários mais longos\n",
    "e também não são executados pelo compiler\n",
    "\"\"\"\n",
    "# o comando print é pra exibir uma variável ou texto no terminal\n",
    "print(\"Script executado com sucesso!\")"
   ]
  },
  {
   "cell_type": "code",
   "execution_count": null,
   "metadata": {},
   "outputs": [],
   "source": [
    "#Principais tipos de variaveis\n",
    "\n",
    "#Inteiros (int): Números inteiros, sem parte decimal\n",
    "inteiro = 42\n",
    "print(\"Inteiro :\", inteiro)\n",
    "\n",
    "#Ponto Flutuante (float): Números reais, que têm uma parte decimal.\n",
    "flutuante = 42.6\n",
    "print(\"Flutuante : \", flutuante)\n",
    "\n",
    "#Complexos (complex): Números complexos, que têm uma parte real e uma parte imaginária\n",
    "complexo = 3 + 4j\n",
    "print(\"Complexo:\", complexo)\n",
    "\n",
    "#String (str): Sequência de caracteres\n",
    "texto = (\"Olá, mundo!\")\n",
    "print(\"Texto:\", texto)\n",
    "\n",
    "#Litas (list): uma coleção ordenada e mutável.\n",
    "lista=[1, 2, 3]\n",
    "print(\"Lista:\", lista)\n",
    "\n",
    "\n"
   ]
  }
 ],
 "metadata": {
  "kernelspec": {
   "display_name": "Python 3",
   "language": "python",
   "name": "python3"
  },
  "language_info": {
   "codemirror_mode": {
    "name": "ipython",
    "version": 3
   },
   "file_extension": ".py",
   "mimetype": "text/x-python",
   "name": "python",
   "nbconvert_exporter": "python",
   "pygments_lexer": "ipython3",
   "version": "3.10.11"
  },
  "orig_nbformat": 4
 },
 "nbformat": 4,
 "nbformat_minor": 2
}
