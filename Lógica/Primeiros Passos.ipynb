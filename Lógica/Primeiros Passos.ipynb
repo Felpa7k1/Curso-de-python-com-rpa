{
 "cells": [
  {
   "cell_type": "code",
   "execution_count": null,
   "metadata": {},
   "outputs": [],
   "source": [
    "#Comentários - não são executados e são usados para marcar o código\n",
    "\n",
    "\"\"\"\n",
    "3 aspas são usadas\n",
    "para fazer comentários mais longos\n",
    "e também não são executados pelo compiler\n",
    "\"\"\"\n",
    "# o comando print é pra exibir uma variável ou texto no terminal\n",
    "print(\"Script executado com sucesso!\")"
   ]
  },
  {
   "cell_type": "code",
   "execution_count": null,
   "metadata": {},
   "outputs": [],
   "source": [
    "#Principais tipos de variaveis\n",
    "\n",
    "#Inteiros (int): Números inteiros, sem parte decimal\n",
    "inteiro = 42\n",
    "print(\"Inteiro:\", inteiro)\n",
    "\n",
    "#Ponto Flutuante (float): Números reais, que têm uma parte decimal.\n",
    "flutuante = 42.6\n",
    "print(\"Flutuante: \", flutuante)\n",
    "\n",
    "#Complexos (complex): Números complexos, que têm uma parte real e uma parte imaginária\n",
    "complexo = 3 + 4j\n",
    "print(\"Complexo:\", complexo)\n",
    "\n",
    "#String (str): Sequência de caracteres\n",
    "texto = (\"Olá, mundo!\")\n",
    "print(\"Texto:\", texto)\n",
    "\n",
    "#Litas (list): uma coleção ordenada e mutável.\n",
    "lista=[1, 2, 3]\n",
    "print(\"Lista:\", lista)\n",
    "\n",
    "#Tuplas (tuple): uma coleção ordenada e imutável.\n",
    "tupla = (1, 2, 3, 4, 5)\n",
    "print(\"Tupla:\", tupla)\n",
    "\n",
    "#Conjuntos (set): uma coleção não ordenada de itens únicos\n",
    "conjunto = {1, 2, 3, 3} #os itens repetidos não serão exibidos\n",
    "print(\"Conjunto:\", conjunto)\n",
    "\n",
    "#Dicionários (dict): uma coleção não ordenada de pares chave-valor\n",
    "dicionario = {\"chave\": \"valor\"}\n",
    "print(\"Dicionário:\", dicionario)\n",
    "\n",
    "#Booleanos (bool) : valores verdadeiro ou falso\n",
    "booleano= True\n",
    "print(\"Booleano:\", booleano)\n",
    "\n",
    "#Nonetype (None) : Um tipo especial que representa a ausência de valor\n",
    "nenhum = None\n",
    "print(\"Nonetype (None)\", nenhum)\n"
   ]
  },
  {
   "cell_type": "code",
   "execution_count": null,
   "metadata": {},
   "outputs": [],
   "source": [
    "#Variaveis\n",
    "\n",
    "idade = 30\n",
    "nome = \"Felipe\"\n",
    "\n",
    "print(\"Nome :\", nome)\n",
    "print(\"Idade:\", idade)\n",
    "print(\"Nome:\", nome, \", Idade:\", idade)"
   ]
  },
  {
   "cell_type": "code",
   "execution_count": null,
   "metadata": {},
   "outputs": [],
   "source": [
    "#Podemos obter o tipo da variavel usando a função type\n",
    "\n",
    "nome= str(\"Ana Paula\")\n",
    "idade = int(31)\n",
    "print(type(nome))\n",
    "print(type(idade))\n"
   ]
  },
  {
   "cell_type": "code",
   "execution_count": null,
   "metadata": {},
   "outputs": [],
   "source": [
    "#As variaveis diferenciam letras maiúsculas e minúsculas\n",
    "i = 30\n",
    "I = \"Ana\"\n",
    "print(I)\n",
    "print(i)"
   ]
  },
  {
   "cell_type": "code",
   "execution_count": null,
   "metadata": {},
   "outputs": [],
   "source": [
    "#Podemos também atribuir valores a várias variáveis em uma só linha\n",
    "'''O código utiliza o desampacotamento de tuplas pra atribuir'''\n",
    "var1, var2, var3, var4 = \"Texto1\",\"Texto2\",\"Texto3\",\"Texto4\"\n",
    "print(var1)\n",
    "print(var2)\n",
    "print(var3)\n",
    "print(var4)"
   ]
  },
  {
   "cell_type": "code",
   "execution_count": null,
   "metadata": {},
   "outputs": [],
   "source": []
  },
  {
   "cell_type": "code",
   "execution_count": null,
   "metadata": {},
   "outputs": [],
   "source": [
    "#Podemos atribuir o mesmo valor a várias variáveis em uma única linha\n",
    "var1 = var2 = var3 = var4 = \"Ana Paula\"\n",
    "print(var1)\n",
    "print(var2)\n",
    "print(var3)\n",
    "print(var4)"
   ]
  },
  {
   "cell_type": "code",
   "execution_count": null,
   "metadata": {},
   "outputs": [],
   "source": [
    "#Se tiver uma coleção de valores em uma lista, podemos extrair em variáveis. Isso é chamado descompactar\n",
    "exemplo = \"Texto1\",\"Texto2\",\"Texto3\",\"Texto4\"\n",
    "var1, var2, var3, var4 = exemplo\n",
    "print(var1)\n",
    "print(var2)\n",
    "print(var3)\n",
    "print(var4)\n",
    "print(exemplo)\n",
    "print(type(exemplo))"
   ]
  },
  {
   "cell_type": "code",
   "execution_count": null,
   "metadata": {},
   "outputs": [],
   "source": [
    "#Para juntar textos e variáveis em python usamos o caracter + ou ,\n",
    "nome = \"Ana Paula\"\n",
    "print(\"O nome dela é \" + nome)"
   ]
  },
  {
   "cell_type": "code",
   "execution_count": null,
   "metadata": {},
   "outputs": [],
   "source": [
    "numero1 = 10\n",
    "numero2= 5\n",
    "\n",
    "print(numero1 + numero2)"
   ]
  },
  {
   "cell_type": "code",
   "execution_count": null,
   "metadata": {},
   "outputs": [],
   "source": [
    "\n",
    "nome = \"Thuane\"\n",
    "sobrenome = \"Alves\"\n",
    "\n",
    "print(\"O nome completo dela é \" + nome +\" \"+ sobrenome)"
   ]
  },
  {
   "cell_type": "code",
   "execution_count": null,
   "metadata": {},
   "outputs": [],
   "source": [
    "idade = 25\n",
    "nome = \"João\"\n",
    "saldo = 100.50\n",
    "soma = idade + saldo\n",
    "print(\"A soma é:\" ,soma)"
   ]
  },
  {
   "cell_type": "code",
   "execution_count": null,
   "metadata": {},
   "outputs": [],
   "source": [
    "nota1 = 7.5\n",
    "nota2 = 8.3\n",
    "nota3 = 6.9\n",
    "\n",
    "media = (nota1 + nota2 + nota3) /3\n",
    "\n",
    "print(\"A média é :\", format(media, \".2f\"))"
   ]
  },
  {
   "cell_type": "code",
   "execution_count": null,
   "metadata": {},
   "outputs": [],
   "source": [
    "nome = input(\"Digite o seu nome : \\n\")\n",
    "print(\"\\n O seu nome é: \" + nome)"
   ]
  },
  {
   "cell_type": "code",
   "execution_count": null,
   "metadata": {},
   "outputs": [],
   "source": [
    "#o /n é para fazer a quebra de linha\n",
    "\n",
    "nome = input(\"Digite seu nome : \\n\")\n",
    "\n",
    "print(\"\\nO seu nome é :\\n\" + nome)"
   ]
  },
  {
   "cell_type": "code",
   "execution_count": null,
   "metadata": {},
   "outputs": [],
   "source": [
    "\n",
    "\n",
    "nome = input(\"Digite o seu nome : \\n\")\n",
    "nota1 = float(input(\"Digite a nota 1: \"))\n",
    "nota2 = float(input(\"Digite a nota 2: \"))\n",
    "\n",
    "media = (nota1 + nota2) / 2\n",
    "\n",
    "print(\"\\no Aluno : \" + nome,\" média :\", media)"
   ]
  },
  {
   "cell_type": "code",
   "execution_count": null,
   "metadata": {},
   "outputs": [],
   "source": [
    "#tabuada\n",
    "\n",
    "numero = int(input(\"A tabuada de qual número você deseja saber:\"))\n",
    "\n",
    "print(numero ,\"*\", 1,  \" = \", numero* 1)\n",
    "print(numero ,\"*\", 2,  \" = \", numero* 2)\n",
    "print(numero ,\"*\", 3,  \" = \", numero* 3)\n",
    "print(numero ,\"*\", 4,  \" = \", numero* 4)\n",
    "print(numero ,\"*\", 5,  \" = \", numero* 5)\n",
    "print(numero ,\"*\", 6,  \" = \", numero* 6)\n",
    "print(numero ,\"*\", 7,  \" = \", numero* 7)\n",
    "print(numero ,\"*\", 8,  \" = \", numero* 8)\n",
    "print(numero ,\"*\", 9,  \" = \", numero* 9)\n",
    "print(numero ,\"*\", 10,  \" = \", numero* 10)"
   ]
  },
  {
   "cell_type": "code",
   "execution_count": 105,
   "metadata": {},
   "outputs": [
    {
     "name": "stdout",
     "output_type": "stream",
     "text": [
      "779\n",
      "0.2207746348786599\n",
      "14\n",
      "maçã\n",
      "[1, 4, 2, 5, 3]\n",
      "6.869401784890613\n"
     ]
    }
   ],
   "source": [
    "#Números randomicos - Números aleatórios\n",
    "import random\n",
    "\n",
    "print(random.randrange(1,1000))\n",
    "\n",
    "#Gerar um número de ponto flutuante aleatório de 0 e 1\n",
    "\n",
    "print(random.random())\n",
    "\n",
    "#Gerar um número inteiro aleatório entre dois valores (inclusive)\n",
    "\n",
    "print(random.randint(10,20)) #Gera um número entre 10 e 20, inclusive.\n",
    "\n",
    "#Escolher aleatoriamente um elemento de uma lista:\n",
    "\n",
    "frutas = [\"maçã\", \"banana\",\"cereja\"]\n",
    "print(random.choice(frutas)) #Escolhe uma fruta aleatoriamente da lista.\n",
    "\n",
    "#Embaralhar aleatoriamente uma lista:\n",
    "numeros = [1,2,3,4,5]\n",
    "random.shuffle(numeros) #A lista 'numeros' agora esta embaralhada.\n",
    "print(numeros)\n",
    "#Gerar um número de ponto flutuante aleatório em um intervalo específico.\n",
    "print(random.uniform(5.5,9.5))\n",
    "\n"
   ]
  }
 ],
 "metadata": {
  "kernelspec": {
   "display_name": "Python 3",
   "language": "python",
   "name": "python3"
  },
  "language_info": {
   "codemirror_mode": {
    "name": "ipython",
    "version": 3
   },
   "file_extension": ".py",
   "mimetype": "text/x-python",
   "name": "python",
   "nbconvert_exporter": "python",
   "pygments_lexer": "ipython3",
   "version": "3.11.2"
  },
  "orig_nbformat": 4
 },
 "nbformat": 4,
 "nbformat_minor": 2
}
