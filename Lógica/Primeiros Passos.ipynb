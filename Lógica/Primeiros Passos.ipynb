{
 "cells": [
  {
   "cell_type": "code",
   "execution_count": null,
   "metadata": {},
   "outputs": [],
   "source": [
    "#Comentários - não são executados e são usados para marcar o código\n",
    "\n",
    "\"\"\"\n",
    "3 aspas são usadas\n",
    "para fazer comentários mais longos\n",
    "e também não são executados pelo compiler\n",
    "\"\"\"\n",
    "# o comando print é pra exibir uma variável ou texto no terminal\n",
    "print(\"Script executado com sucesso!\")"
   ]
  },
  {
   "cell_type": "code",
   "execution_count": null,
   "metadata": {},
   "outputs": [],
   "source": [
    "#Principais tipos de variaveis\n",
    "\n",
    "#Inteiros (int): Números inteiros, sem parte decimal\n",
    "inteiro = 42\n",
    "print(\"Inteiro:\", inteiro)\n",
    "\n",
    "#Ponto Flutuante (float): Números reais, que têm uma parte decimal.\n",
    "flutuante = 42.6\n",
    "print(\"Flutuante: \", flutuante)\n",
    "\n",
    "#Complexos (complex): Números complexos, que têm uma parte real e uma parte imaginária\n",
    "complexo = 3 + 4j\n",
    "print(\"Complexo:\", complexo)\n",
    "\n",
    "#String (str): Sequência de caracteres\n",
    "texto = (\"Olá, mundo!\")\n",
    "print(\"Texto:\", texto)\n",
    "\n",
    "#Litas (list): uma coleção ordenada e mutável.\n",
    "lista=[1, 2, 3]\n",
    "print(\"Lista:\", lista)\n",
    "\n",
    "#Tuplas (tuple): uma coleção ordenada e imutável.\n",
    "tupla = (1, 2, 3, 4, 5)\n",
    "print(\"Tupla:\", tupla)\n",
    "\n",
    "#Conjuntos (set): uma coleção não ordenada de itens únicos\n",
    "conjunto = {1, 2, 3, 3} #os itens repetidos não serão exibidos\n",
    "print(\"Conjunto:\", conjunto)\n",
    "\n",
    "#Dicionários (dict): uma coleção não ordenada de pares chave-valor\n",
    "dicionario = {\"chave\": \"valor\"}\n",
    "print(\"Dicionário:\", dicionario)\n",
    "\n",
    "#Booleanos (bool) : valores verdadeiro ou falso\n",
    "booleano= True\n",
    "print(\"Booleano:\", booleano)\n",
    "\n",
    "#Nonetype (None) : Um tipo especial que representa a ausência de valor\n",
    "nenhum = None\n",
    "print(\"Nonetype (None)\", nenhum)\n"
   ]
  },
  {
   "cell_type": "code",
   "execution_count": null,
   "metadata": {},
   "outputs": [],
   "source": [
    "#Variaveis\n",
    "\n",
    "idade = 30\n",
    "nome = \"Felipe\"\n",
    "\n",
    "print(\"Nome :\", nome)\n",
    "print(\"Idade:\", idade)\n",
    "print(\"Nome:\", nome, \", Idade:\", idade)"
   ]
  },
  {
   "cell_type": "code",
   "execution_count": 7,
   "metadata": {},
   "outputs": [
    {
     "name": "stdout",
     "output_type": "stream",
     "text": [
      "<class 'str'>\n",
      "<class 'int'>\n"
     ]
    }
   ],
   "source": [
    "#Podemos obter o tipo da variavel usando a função type\n",
    "\n",
    "nome= str(\"Ana Paula\")\n",
    "idade = int(31)\n",
    "print(type(nome))\n",
    "print(type(idade))\n"
   ]
  },
  {
   "cell_type": "code",
   "execution_count": 11,
   "metadata": {},
   "outputs": [
    {
     "name": "stdout",
     "output_type": "stream",
     "text": [
      "Ana\n",
      "30\n"
     ]
    }
   ],
   "source": [
    "#As variaveis diferenciam letras maiúsculas e minúsculas\n",
    "i = 30\n",
    "I = \"Ana\"\n",
    "print(I)\n",
    "print(i)"
   ]
  },
  {
   "cell_type": "code",
   "execution_count": 14,
   "metadata": {},
   "outputs": [
    {
     "name": "stdout",
     "output_type": "stream",
     "text": [
      "Texto1\n",
      "Texto2\n",
      "Texto3\n",
      "Texto4\n"
     ]
    }
   ],
   "source": [
    "#Podemos também atribuir valores a várias variáveis em uma só linha\n",
    "'''O código utiliza o desampacotamento de tuplas pra atribuir'''\n",
    "var1, var2, var3, var4 = \"Texto1\",\"Texto2\",\"Texto3\",\"Texto4\"\n",
    "print(var1)\n",
    "print(var2)\n",
    "print(var3)\n",
    "print(var4)"
   ]
  },
  {
   "cell_type": "code",
   "execution_count": null,
   "metadata": {},
   "outputs": [],
   "source": []
  },
  {
   "cell_type": "code",
   "execution_count": 17,
   "metadata": {},
   "outputs": [
    {
     "name": "stdout",
     "output_type": "stream",
     "text": [
      "Ana Paula\n",
      "Ana Paula\n",
      "Ana Paula\n",
      "Ana Paula\n"
     ]
    }
   ],
   "source": [
    "#Podemos atribuir o mesmo valor a várias variáveis em uma única linha\n",
    "var1 = var2 = var3 = var4 = \"Ana Paula\"\n",
    "print(var1)\n",
    "print(var2)\n",
    "print(var3)\n",
    "print(var4)"
   ]
  },
  {
   "cell_type": "code",
   "execution_count": 21,
   "metadata": {},
   "outputs": [
    {
     "name": "stdout",
     "output_type": "stream",
     "text": [
      "Texto1\n",
      "Texto2\n",
      "Texto3\n",
      "Texto4\n",
      "('Texto1', 'Texto2', 'Texto3', 'Texto4')\n",
      "<class 'tuple'>\n"
     ]
    }
   ],
   "source": [
    "#Se tiver uma coleção de valores em uma lista, podemos extrair em variáveis. Isso é chamado descompactar\n",
    "exemplo = \"Texto1\",\"Texto2\",\"Texto3\",\"Texto4\"\n",
    "var1, var2, var3, var4 = exemplo\n",
    "print(var1)\n",
    "print(var2)\n",
    "print(var3)\n",
    "print(var4)\n",
    "print(exemplo)\n",
    "print(type(exemplo))"
   ]
  },
  {
   "cell_type": "code",
   "execution_count": 23,
   "metadata": {},
   "outputs": [
    {
     "name": "stdout",
     "output_type": "stream",
     "text": [
      "O nome dela é Ana Paula\n"
     ]
    }
   ],
   "source": [
    "#Para juntar textos e variáveis em python usamos o caracter + ou ,\n",
    "nome = \"Ana Paula\"\n",
    "print(\"O nome dela é \" + nome)"
   ]
  }
 ],
 "metadata": {
  "kernelspec": {
   "display_name": "Python 3",
   "language": "python",
   "name": "python3"
  },
  "language_info": {
   "codemirror_mode": {
    "name": "ipython",
    "version": 3
   },
   "file_extension": ".py",
   "mimetype": "text/x-python",
   "name": "python",
   "nbconvert_exporter": "python",
   "pygments_lexer": "ipython3",
   "version": "3.11.2"
  },
  "orig_nbformat": 4
 },
 "nbformat": 4,
 "nbformat_minor": 2
}
